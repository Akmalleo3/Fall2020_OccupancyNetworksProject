{
 "cells": [
  {
   "cell_type": "code",
   "execution_count": 1,
   "metadata": {},
   "outputs": [],
   "source": [
    "import torch\n",
    "import torch.nn as nn\n",
    "import torch.nn.functional as F\n",
    "import torch.optim as optim"
   ]
  },
  {
   "cell_type": "code",
   "execution_count": 2,
   "metadata": {},
   "outputs": [],
   "source": [
    "#The Encoder network for single view 3D reconstruction is a ResNet18 pretrained\n",
    "#on the ImageNet dataset with the last fully-connected layer adjusted to project\n",
    "#the features to a 256 dimensional embedding, \"c\"\n",
    "from torchvision.models.resnet import resnet18 as _resnet18\n",
    "import numpy\n",
    "from PIL import Image\n",
    "import io"
   ]
  },
  {
   "cell_type": "code",
   "execution_count": 3,
   "metadata": {},
   "outputs": [],
   "source": [
    "K = 10\n",
    "batch_size = 20\n",
    "device = 'cuda'"
   ]
  },
  {
   "cell_type": "code",
   "execution_count": 23,
   "metadata": {},
   "outputs": [],
   "source": []
  },
  {
   "cell_type": "code",
   "execution_count": null,
   "metadata": {},
   "outputs": [],
   "source": []
  },
  {
   "cell_type": "code",
   "execution_count": 4,
   "metadata": {},
   "outputs": [],
   "source": [
    "class Block(nn.Module):\n",
    "    def __init__(self):\n",
    "        super(Block,self).__init__()\n",
    "        self.fc1 = nn.Conv1d(256,256,kernel_size=1)\n",
    "        self.fc2 = nn.Conv1d(256,256,kernel_size=1)\n",
    "        self.bn1 = nn.BatchNorm1d(256, affine=False, track_running_stats=True)\n",
    "        self.bn2 = nn.BatchNorm1d(256, affine=False, track_running_stats=True)\n",
    "        self.gammaLayer1 = nn.Conv1d(256,256,kernel_size=1)\n",
    "        self.gammaLayer2 = nn.Conv1d(256,256,kernel_size=1)\n",
    "        self.betaLayer1 = nn.Conv1d(256,256,kernel_size=1)\n",
    "        self.betaLayer2 = nn.Conv1d(256,256,kernel_size=1)\n",
    "        \n",
    "    def forward(self,y):\n",
    "        x = y['ex']\n",
    "        encoding = y['enc']\n",
    "        gamma = self.gammaLayer1(encoding)\n",
    "        beta = self.betaLayer1(encoding)\n",
    "        #First apply Conditional Batch Normalization\n",
    "        out = gamma*self.bn1(x) + beta\n",
    "        #Then ReLU activation function\n",
    "        out = F.relu(out)\n",
    "        #fully connected layer\n",
    "        out = self.fc1(out)\n",
    "        #Second CBN layer\n",
    "        gamma = self.gammaLayer2(encoding)\n",
    "        beta = self.betaLayer2(encoding)\n",
    "        out = gamma*self.bn2(out) + beta\n",
    "        #RELU activation\n",
    "        out = F.relu(out)\n",
    "        #2nd fully connected\n",
    "        out = self.fc2(out)\n",
    "        #Add to the input of the ResNet Block \n",
    "        out = x + out\n",
    "        \n",
    "        return {'ex':out, 'enc':encoding}"
   ]
  },
  {
   "cell_type": "code",
   "execution_count": 5,
   "metadata": {},
   "outputs": [],
   "source": [
    "class OccupancyModel(nn.Module):\n",
    "    def __init__(self):\n",
    "        super(OccupancyModel,self).__init__()\n",
    "        self.blocks = self.makeBlocks()\n",
    "        self.encoderModel = _resnet18(pretrained=True)\n",
    "        self.fc_enc = nn.Linear(1000, 256)\n",
    "        self.gammaLayer = nn.Conv1d(256,256,kernel_size=1)\n",
    "        self.betaLayer = nn.Conv1d(256,256,kernel_size=1)\n",
    "        self.cbn = nn.BatchNorm1d(256, affine=False, track_running_stats=True)\n",
    "        self.fc1 = nn.Conv1d(3,256,kernel_size=1)\n",
    "        self.fc2 = nn.Conv1d(256,1,kernel_size=1)\n",
    "        \n",
    "    def makeBlocks(self):\n",
    "        blocks = []\n",
    "        for _ in range(5):\n",
    "            blocks.append(Block())\n",
    "        return nn.Sequential(*blocks)\n",
    "   \n",
    "  \n",
    "    def forward(self,x,img):\n",
    "        img = self.encoderModel(img)\n",
    "        img = self.fc_enc(img)\n",
    "        img = img.view(-1,256,1)\n",
    "        x = self.fc1(x)\n",
    "        #5 pre-activation ResNet-blocks\n",
    "        x = self.blocks({'enc':img , 'ex':x })\n",
    "        x = x['ex']\n",
    "        #CBN\n",
    "        gamma = self.gammaLayer(img)\n",
    "        beta = self.betaLayer(img)\n",
    "        x = gamma*self.cbn(x) + beta\n",
    "        x = F.relu(x)\n",
    "        x = self.fc2(x)\n",
    "        x = x.view(-1,1)\n",
    "        x = torch.sigmoid(x)\n",
    "        return x"
   ]
  },
  {
   "cell_type": "code",
   "execution_count": null,
   "metadata": {},
   "outputs": [],
   "source": [
    "model = OccupancyModel()\n",
    "#Input to the occupancy network architecture is the \n",
    "#output of the encoder network and a batch of 3D coordinates. \n",
    "coords = torch.rand(20,3,1)\n",
    "image = torch.rand(20,3,137,137)\n",
    "model.eval()\n",
    "\n",
    "p = model(coords,image)\n"
   ]
  },
  {
   "cell_type": "code",
   "execution_count": null,
   "metadata": {},
   "outputs": [],
   "source": [
    "#The following is evidence that the fc layers in the encoder are indeed updating their weights \n",
    "modelCriterion = nn.BCELoss()\n",
    "optimizer = optim.Adam(model.parameters(), lr = 0.001)\n",
    "model.train()\n",
    "\n"
   ]
  },
  {
   "cell_type": "code",
   "execution_count": null,
   "metadata": {},
   "outputs": [],
   "source": [
    "output = model(coords,image)\n",
    "print(f\"out: {output}\")\n",
    "loss = modelCriterion(output, torch.rand(output.size()))\n",
    "print(f\"loss: {loss}\")\n",
    "loss.backward()\n",
    "optimizer.step()"
   ]
  },
  {
   "cell_type": "code",
   "execution_count": null,
   "metadata": {},
   "outputs": [],
   "source": []
  },
  {
   "cell_type": "code",
   "execution_count": 25,
   "metadata": {},
   "outputs": [],
   "source": [
    "#load some data:\n",
    "#The .npz contains \"points, occupancies, loc, scale\" \n",
    "with numpy.load(\"/home/andrea/Documents/GradSchool/OccupancyNetworks/occupancy_networks/data/ShapeNet/02691156/fd528602cbde6f11bbf3143b1cb6076a/points.npz\") as data:\n",
    "    pts = torch.tensor(data[\"points\"], dtype=torch.float)\n",
    "    occupancies = torch.tensor(numpy.unpackbits(data[\"occupancies\"])[:pts.size()[0]], dtype=torch.float)\n",
    "\n",
    "image = numpy.array(Image.open(\"/home/andrea/Documents/GradSchool/OccupancyNetworks/occupancy_networks/data/ShapeNet/02691156/fd528602cbde6f11bbf3143b1cb6076a/img_choy2016/015.jpg\"))\n",
    "#At least for this image directory, the jpgs come in as 137,137,3\n",
    "image = torch.tensor(image,dtype=torch.float).permute(2,0,1)\n",
    "image = image.view(1,3,137,137)\n",
    "\n",
    "train_loader = torch.utils.data.DataLoader(list(zip(pts,occupancies)), batch_size=batch_size)\n"
   ]
  },
  {
   "cell_type": "code",
   "execution_count": null,
   "metadata": {},
   "outputs": [],
   "source": []
  },
  {
   "cell_type": "code",
   "execution_count": null,
   "metadata": {},
   "outputs": [],
   "source": []
  },
  {
   "cell_type": "code",
   "execution_count": 6,
   "metadata": {},
   "outputs": [],
   "source": [
    "def train(epoch, model, trainloader, optimizer):\n",
    "    modelCriterion = nn.BCELoss()\n",
    "    model.train()\n",
    "    for batch_idx, data in enumerate(train_loader):\n",
    "        (images, pts, occupancies) = data\n",
    "        #Each batch size contains batch_size sets of \"K\" points\n",
    "        #Collapse those two dimensions\n",
    "        images = images.view(batch_size*K,3,137,137).cuda() #make robust\n",
    "        pts = pts.view(batch_size*K, 3,1).cuda()\n",
    "        occupancies = occupancies.view(batch_size*K,1).cuda()\n",
    "        optimizer.zero_grad()\n",
    "        output = model(pts, images) #a probability for each point \n",
    "        loss = modelCriterion(output, occupancies)\n",
    "        loss.backward()\n",
    "        optimizer.step()\n",
    "        if batch_idx % 10 == 0:\n",
    "            print('Train Epoch: {} [{}/{} ({:.0f}%)]\\\\tLoss: {:.6f}'.format(\n",
    "                epoch, batch_idx * len(data), len(train_loader.dataset), 100. * batch_idx / len(train_loader),\n",
    "                loss.item()))\n",
    "        if batch_idx % 100 == 0:\n",
    "            print(\"Saving to model1.pth\")\n",
    "            torch.save(model.state_dict(), \"model1.pth\")"
   ]
  },
  {
   "cell_type": "code",
   "execution_count": 7,
   "metadata": {},
   "outputs": [],
   "source": [
    "def validation(model, val_loader):\n",
    "    model.eval()\n",
    "    modelCriterion = nn.BCELoss()\n",
    "    validation_loss = 0\n",
    "    correct = 0\n",
    "    for batch_idx, data in enumerate(val_loader):\n",
    "        (images, pts, occupancies) = data\n",
    "        images = images.view(batch_size*K,3,137,137).cuda() #make robust\n",
    "        pts = pts.view(batch_size*K, 3,1).cuda()\n",
    "        occupancies = occupancies.view(batch_size*K,1).cuda()\n",
    "        output = model(pts, images)\n",
    "        loss = modelCriterion(output, occupancies)\n",
    "        validation_loss += loss.item()\n",
    "\n",
    "        threshold = 0.2\n",
    "        roundedOut = [0 if output < threshold else 1]\n",
    "        correct += roundedOut.eq(occupancies).sum()\n",
    "        validation_loss /= len(val_loader.dataset)\n",
    "        print('Validation set: Average loss: {:.4f}, Accuracy: {}/{} ({:.0f}%)\\n'.format(\n",
    "        validation_loss, correct, len(occupancies), 100. * correct / len(occupancies)))"
   ]
  },
  {
   "cell_type": "code",
   "execution_count": null,
   "metadata": {},
   "outputs": [],
   "source": []
  },
  {
   "cell_type": "markdown",
   "metadata": {},
   "source": []
  },
  {
   "cell_type": "code",
   "execution_count": 8,
   "metadata": {},
   "outputs": [],
   "source": [
    "#choose a category and load all of the available data:\n",
    "import random\n",
    "topdir = \"/home/andrea/Documents/GradSchool/OccupancyNetworks/occupancy_networks\"\n",
    "imageFiles = [\"000.jpg\",\"001.jpg\", \"002.jpg\",\"003.jpg\", \"004.jpg\", \"005.jpg\", \"006.jpg\", \"007.jpg\", \"008.jpg\",\n",
    "             \"009.jpg\", \"010.jpg\", \"011.jpg\", \"012.jpg\", \"013.jpg\", \"014.jpg\", \"015.jpg\", \"016.jpg\", \"017.jpg\",\n",
    "             \"018.jpg\", \"019.jpg\", \"020.jpg\", \"023.jpg\"]\n",
    "\n",
    "#One DataSetClass per subdirectory in a category, will return \"K\" point samples and a single image randomly\n",
    "#drawn from the 23 available\n",
    "class DataSetClass(torch.utils.data.Dataset):\n",
    "    def __init__(self, d):\n",
    "        self.dir = d\n",
    "        with numpy.load(f\"{d}/points.npz\") as data:\n",
    "            self.pts = torch.tensor(data[\"points\"], dtype=torch.float)\n",
    "            self.occupancies = torch.tensor(numpy.unpackbits(data[\"occupancies\"])[:self.pts.size()[0]], dtype=torch.float)\n",
    "        self.K = K #TODO how many sample points should come in? \n",
    "        self.length = int(self.occupancies.size()[0]/self.K)\n",
    "    def __len__(self):\n",
    "        return self.length\n",
    "    \n",
    "    def __getitem__(self,idx):\n",
    "        #pick an image randomly to be used an observation for this set of \"K sample points\"\n",
    "        imageFile = imageFiles[random.randint(0, len(imageFiles)-1)]\n",
    "        with Image.open(f\"{self.dir}/img_choy2016/{imageFile}\") as image:\n",
    "                image = numpy.array(image)\n",
    "                image = torch.tensor(image,dtype=torch.float)\n",
    "                #if the image is grey scale, stack 3 to conform dimensions\n",
    "                if len(image.size()) < 3:\n",
    "                    image = torch.stack([image, image, image])\n",
    "                else:\n",
    "                    image = image.permute(2,0,1)\n",
    "        #Stack identical copies of the image so we have one for each input point\n",
    "        #Maybe there is a better way\n",
    "        image = torch.stack([image for _ in range(self.K)])\n",
    "        #sampling in order is fine? \n",
    "        return image, self.pts[idx*self.K:(idx*self.K+self.K)], self.occupancies[idx*self.K:(idx*self.K+self.K)]\n",
    "\n",
    "       \n",
    "#catalogue all of the directories with the chosen category\n",
    "trainingDirs = []\n",
    "tablesDirectory=f\"{topdir}/data/ShapeNet/02828884\"\n",
    "with io.open(f\"{tablesDirectory}/train.lst\") as trainlist:\n",
    "    for traindir in trainlist.readlines():\n",
    "        trainingDirs.append(f\"{tablesDirectory}/{traindir.strip()}\")\n",
    "dataSets = []\n",
    "for tdir in trainingDirs:\n",
    "    dataSets.append(DataSetClass(tdir))\n",
    "data = torch.utils.data.ConcatDataset(dataSets)\n",
    "train_loader = torch.utils.data.DataLoader(data, batch_size=batch_size, shuffle=True)\n",
    "#Get the validation data\n",
    "valDirs = []\n",
    "with io.open(f\"{tablesDirectory}/val.lst\") as vallist:\n",
    "    for valdir in vallist.readlines():\n",
    "        valDirs.append(f\"{tablesDirectory}/{valdir.strip()}\")\n",
    "dataSets = []\n",
    "for vdir in valDirs:\n",
    "    dataSets.append(DataSetClass(vdir))\n",
    "val_data = torch.utils.data.ConcatDataset(dataSets)\n",
    "val_loader = torch.utils.data.DataLoader(val_data, batch_size=5, shuffle=True)"
   ]
  },
  {
   "cell_type": "code",
   "execution_count": null,
   "metadata": {},
   "outputs": [],
   "source": []
  },
  {
   "cell_type": "code",
   "execution_count": 9,
   "metadata": {
    "scrolled": true
   },
   "outputs": [
    {
     "name": "stdout",
     "output_type": "stream",
     "text": [
      "Train Epoch: 0 [0/12720000 (0%)]\\tLoss: 0.763562\n",
      "Saving to model1.pth\n",
      "Train Epoch: 0 [30/12720000 (0%)]\\tLoss: 0.089893\n",
      "Train Epoch: 0 [60/12720000 (0%)]\\tLoss: 0.051936\n",
      "Train Epoch: 0 [90/12720000 (0%)]\\tLoss: 0.164247\n",
      "Train Epoch: 0 [120/12720000 (0%)]\\tLoss: 0.124294\n",
      "Train Epoch: 0 [150/12720000 (0%)]\\tLoss: 0.171435\n",
      "Train Epoch: 0 [180/12720000 (0%)]\\tLoss: 0.096975\n",
      "Train Epoch: 0 [210/12720000 (0%)]\\tLoss: 0.069320\n",
      "Train Epoch: 0 [240/12720000 (0%)]\\tLoss: 0.033758\n",
      "Train Epoch: 0 [270/12720000 (0%)]\\tLoss: 0.077556\n",
      "Train Epoch: 0 [300/12720000 (0%)]\\tLoss: 0.110553\n",
      "Saving to model1.pth\n",
      "Train Epoch: 0 [330/12720000 (0%)]\\tLoss: 0.083644\n",
      "Train Epoch: 0 [360/12720000 (0%)]\\tLoss: 0.082917\n",
      "Train Epoch: 0 [390/12720000 (0%)]\\tLoss: 0.037322\n",
      "Train Epoch: 0 [420/12720000 (0%)]\\tLoss: 0.058924\n",
      "Train Epoch: 0 [450/12720000 (0%)]\\tLoss: 0.009080\n",
      "Train Epoch: 0 [480/12720000 (0%)]\\tLoss: 0.061180\n",
      "Train Epoch: 0 [510/12720000 (0%)]\\tLoss: 0.036179\n",
      "Train Epoch: 0 [540/12720000 (0%)]\\tLoss: 0.034323\n",
      "Train Epoch: 0 [570/12720000 (0%)]\\tLoss: 0.167986\n",
      "Train Epoch: 0 [600/12720000 (0%)]\\tLoss: 0.106069\n",
      "Saving to model1.pth\n",
      "Train Epoch: 0 [630/12720000 (0%)]\\tLoss: 0.108554\n",
      "Train Epoch: 0 [660/12720000 (0%)]\\tLoss: 0.150410\n",
      "Train Epoch: 0 [690/12720000 (0%)]\\tLoss: 0.115745\n",
      "Train Epoch: 0 [720/12720000 (0%)]\\tLoss: 0.093575\n",
      "Train Epoch: 0 [750/12720000 (0%)]\\tLoss: 0.085530\n",
      "Train Epoch: 0 [780/12720000 (0%)]\\tLoss: 0.042918\n",
      "Train Epoch: 0 [810/12720000 (0%)]\\tLoss: 0.070909\n",
      "Train Epoch: 0 [840/12720000 (0%)]\\tLoss: 0.129261\n",
      "Train Epoch: 0 [870/12720000 (0%)]\\tLoss: 0.003686\n",
      "Train Epoch: 0 [900/12720000 (0%)]\\tLoss: 0.080807\n",
      "Saving to model1.pth\n",
      "Train Epoch: 0 [930/12720000 (0%)]\\tLoss: 0.063405\n",
      "Train Epoch: 0 [960/12720000 (0%)]\\tLoss: 0.056399\n",
      "Train Epoch: 0 [990/12720000 (0%)]\\tLoss: 0.092712\n",
      "Train Epoch: 0 [1020/12720000 (0%)]\\tLoss: 0.089718\n",
      "Train Epoch: 0 [1050/12720000 (0%)]\\tLoss: 0.066832\n",
      "Train Epoch: 0 [1080/12720000 (0%)]\\tLoss: 0.067966\n",
      "Train Epoch: 0 [1110/12720000 (0%)]\\tLoss: 0.037880\n",
      "Train Epoch: 0 [1140/12720000 (0%)]\\tLoss: 0.046989\n",
      "Train Epoch: 0 [1170/12720000 (0%)]\\tLoss: 0.095763\n",
      "Train Epoch: 0 [1200/12720000 (0%)]\\tLoss: 0.073106\n",
      "Saving to model1.pth\n",
      "Train Epoch: 0 [1230/12720000 (0%)]\\tLoss: 0.045023\n",
      "Train Epoch: 0 [1260/12720000 (0%)]\\tLoss: 0.046521\n",
      "Train Epoch: 0 [1290/12720000 (0%)]\\tLoss: 0.060395\n",
      "Train Epoch: 0 [1320/12720000 (0%)]\\tLoss: 0.126030\n",
      "Train Epoch: 0 [1350/12720000 (0%)]\\tLoss: 0.094307\n",
      "Train Epoch: 0 [1380/12720000 (0%)]\\tLoss: 0.026250\n",
      "Train Epoch: 0 [1410/12720000 (0%)]\\tLoss: 0.039301\n",
      "Train Epoch: 0 [1440/12720000 (0%)]\\tLoss: 0.066955\n",
      "Train Epoch: 0 [1470/12720000 (0%)]\\tLoss: 0.040663\n",
      "Train Epoch: 0 [1500/12720000 (0%)]\\tLoss: 0.077249\n",
      "Saving to model1.pth\n",
      "Train Epoch: 0 [1530/12720000 (0%)]\\tLoss: 0.066641\n",
      "Train Epoch: 0 [1560/12720000 (0%)]\\tLoss: 0.066717\n",
      "Train Epoch: 0 [1590/12720000 (0%)]\\tLoss: 0.055836\n",
      "Train Epoch: 0 [1620/12720000 (0%)]\\tLoss: 0.034949\n",
      "Train Epoch: 0 [1650/12720000 (0%)]\\tLoss: 0.024440\n",
      "Train Epoch: 0 [1680/12720000 (0%)]\\tLoss: 0.126891\n",
      "Train Epoch: 0 [1710/12720000 (0%)]\\tLoss: 0.050490\n",
      "Train Epoch: 0 [1740/12720000 (0%)]\\tLoss: 0.080191\n",
      "Train Epoch: 0 [1770/12720000 (0%)]\\tLoss: 0.059318\n",
      "Train Epoch: 0 [1800/12720000 (0%)]\\tLoss: 0.104593\n",
      "Saving to model1.pth\n",
      "Train Epoch: 0 [1830/12720000 (0%)]\\tLoss: 0.065826\n",
      "Train Epoch: 0 [1860/12720000 (0%)]\\tLoss: 0.073231\n",
      "Train Epoch: 0 [1890/12720000 (0%)]\\tLoss: 0.051628\n",
      "Train Epoch: 0 [1920/12720000 (0%)]\\tLoss: 0.049745\n",
      "Train Epoch: 0 [1950/12720000 (0%)]\\tLoss: 0.085954\n",
      "Train Epoch: 0 [1980/12720000 (0%)]\\tLoss: 0.076705\n",
      "Train Epoch: 0 [2010/12720000 (0%)]\\tLoss: 0.019146\n",
      "Train Epoch: 0 [2040/12720000 (0%)]\\tLoss: 0.118951\n",
      "Train Epoch: 0 [2070/12720000 (0%)]\\tLoss: 0.070961\n",
      "Train Epoch: 0 [2100/12720000 (0%)]\\tLoss: 0.098572\n",
      "Saving to model1.pth\n",
      "Train Epoch: 0 [2130/12720000 (0%)]\\tLoss: 0.042831\n",
      "Train Epoch: 0 [2160/12720000 (0%)]\\tLoss: 0.056885\n",
      "Train Epoch: 0 [2190/12720000 (0%)]\\tLoss: 0.019208\n",
      "Train Epoch: 0 [2220/12720000 (0%)]\\tLoss: 0.022424\n",
      "Train Epoch: 0 [2250/12720000 (0%)]\\tLoss: 0.085387\n",
      "Train Epoch: 0 [2280/12720000 (0%)]\\tLoss: 0.018574\n",
      "Train Epoch: 0 [2310/12720000 (0%)]\\tLoss: 0.029537\n",
      "Train Epoch: 0 [2340/12720000 (0%)]\\tLoss: 0.091956\n",
      "Train Epoch: 0 [2370/12720000 (0%)]\\tLoss: 0.108733\n",
      "Train Epoch: 0 [2400/12720000 (0%)]\\tLoss: 0.086161\n",
      "Saving to model1.pth\n"
     ]
    },
    {
     "ename": "KeyboardInterrupt",
     "evalue": "",
     "output_type": "error",
     "traceback": [
      "\u001b[0;31m---------------------------------------------------------------------------\u001b[0m",
      "\u001b[0;31mKeyboardInterrupt\u001b[0m                         Traceback (most recent call last)",
      "\u001b[0;32m<ipython-input-9-7d016c128921>\u001b[0m in \u001b[0;36m<module>\u001b[0;34m\u001b[0m\n\u001b[1;32m      3\u001b[0m \u001b[0;34m\u001b[0m\u001b[0m\n\u001b[1;32m      4\u001b[0m \u001b[0;32mfor\u001b[0m \u001b[0mepoch\u001b[0m \u001b[0;32min\u001b[0m \u001b[0mrange\u001b[0m\u001b[0;34m(\u001b[0m\u001b[0;36m1\u001b[0m\u001b[0;34m)\u001b[0m\u001b[0;34m:\u001b[0m\u001b[0;34m\u001b[0m\u001b[0;34m\u001b[0m\u001b[0m\n\u001b[0;32m----> 5\u001b[0;31m     \u001b[0mtrain\u001b[0m\u001b[0;34m(\u001b[0m\u001b[0mepoch\u001b[0m\u001b[0;34m,\u001b[0m\u001b[0mmodel\u001b[0m\u001b[0;34m,\u001b[0m\u001b[0mtrain_loader\u001b[0m\u001b[0;34m,\u001b[0m\u001b[0moptimizer\u001b[0m\u001b[0;34m)\u001b[0m\u001b[0;34m\u001b[0m\u001b[0;34m\u001b[0m\u001b[0m\n\u001b[0m\u001b[1;32m      6\u001b[0m     \u001b[0mvalidation\u001b[0m\u001b[0;34m(\u001b[0m\u001b[0mmodel\u001b[0m\u001b[0;34m,\u001b[0m \u001b[0mval_loader\u001b[0m\u001b[0;34m)\u001b[0m\u001b[0;34m\u001b[0m\u001b[0;34m\u001b[0m\u001b[0m\n",
      "\u001b[0;32m<ipython-input-6-10a588bd1e68>\u001b[0m in \u001b[0;36mtrain\u001b[0;34m(epoch, model, trainloader, optimizer)\u001b[0m\n\u001b[1;32m     13\u001b[0m         \u001b[0mloss\u001b[0m \u001b[0;34m=\u001b[0m \u001b[0mmodelCriterion\u001b[0m\u001b[0;34m(\u001b[0m\u001b[0moutput\u001b[0m\u001b[0;34m,\u001b[0m \u001b[0moccupancies\u001b[0m\u001b[0;34m)\u001b[0m\u001b[0;34m\u001b[0m\u001b[0;34m\u001b[0m\u001b[0m\n\u001b[1;32m     14\u001b[0m         \u001b[0mloss\u001b[0m\u001b[0;34m.\u001b[0m\u001b[0mbackward\u001b[0m\u001b[0;34m(\u001b[0m\u001b[0;34m)\u001b[0m\u001b[0;34m\u001b[0m\u001b[0;34m\u001b[0m\u001b[0m\n\u001b[0;32m---> 15\u001b[0;31m         \u001b[0moptimizer\u001b[0m\u001b[0;34m.\u001b[0m\u001b[0mstep\u001b[0m\u001b[0;34m(\u001b[0m\u001b[0;34m)\u001b[0m\u001b[0;34m\u001b[0m\u001b[0;34m\u001b[0m\u001b[0m\n\u001b[0m\u001b[1;32m     16\u001b[0m         \u001b[0;32mif\u001b[0m \u001b[0mbatch_idx\u001b[0m \u001b[0;34m%\u001b[0m \u001b[0;36m10\u001b[0m \u001b[0;34m==\u001b[0m \u001b[0;36m0\u001b[0m\u001b[0;34m:\u001b[0m\u001b[0;34m\u001b[0m\u001b[0;34m\u001b[0m\u001b[0m\n\u001b[1;32m     17\u001b[0m             print('Train Epoch: {} [{}/{} ({:.0f}%)]\\\\tLoss: {:.6f}'.format(\n",
      "\u001b[0;32m~/.local/lib/python3.8/site-packages/torch/autograd/grad_mode.py\u001b[0m in \u001b[0;36mdecorate_context\u001b[0;34m(*args, **kwargs)\u001b[0m\n\u001b[1;32m     13\u001b[0m         \u001b[0;32mdef\u001b[0m \u001b[0mdecorate_context\u001b[0m\u001b[0;34m(\u001b[0m\u001b[0;34m*\u001b[0m\u001b[0margs\u001b[0m\u001b[0;34m,\u001b[0m \u001b[0;34m**\u001b[0m\u001b[0mkwargs\u001b[0m\u001b[0;34m)\u001b[0m\u001b[0;34m:\u001b[0m\u001b[0;34m\u001b[0m\u001b[0;34m\u001b[0m\u001b[0m\n\u001b[1;32m     14\u001b[0m             \u001b[0;32mwith\u001b[0m \u001b[0mself\u001b[0m\u001b[0;34m:\u001b[0m\u001b[0;34m\u001b[0m\u001b[0;34m\u001b[0m\u001b[0m\n\u001b[0;32m---> 15\u001b[0;31m                 \u001b[0;32mreturn\u001b[0m \u001b[0mfunc\u001b[0m\u001b[0;34m(\u001b[0m\u001b[0;34m*\u001b[0m\u001b[0margs\u001b[0m\u001b[0;34m,\u001b[0m \u001b[0;34m**\u001b[0m\u001b[0mkwargs\u001b[0m\u001b[0;34m)\u001b[0m\u001b[0;34m\u001b[0m\u001b[0;34m\u001b[0m\u001b[0m\n\u001b[0m\u001b[1;32m     16\u001b[0m         \u001b[0;32mreturn\u001b[0m \u001b[0mdecorate_context\u001b[0m\u001b[0;34m\u001b[0m\u001b[0;34m\u001b[0m\u001b[0m\n\u001b[1;32m     17\u001b[0m \u001b[0;34m\u001b[0m\u001b[0m\n",
      "\u001b[0;32m~/.local/lib/python3.8/site-packages/torch/optim/adam.py\u001b[0m in \u001b[0;36mstep\u001b[0;34m(self, closure)\u001b[0m\n\u001b[1;32m    109\u001b[0m                 \u001b[0mstep_size\u001b[0m \u001b[0;34m=\u001b[0m \u001b[0mgroup\u001b[0m\u001b[0;34m[\u001b[0m\u001b[0;34m'lr'\u001b[0m\u001b[0;34m]\u001b[0m \u001b[0;34m/\u001b[0m \u001b[0mbias_correction1\u001b[0m\u001b[0;34m\u001b[0m\u001b[0;34m\u001b[0m\u001b[0m\n\u001b[1;32m    110\u001b[0m \u001b[0;34m\u001b[0m\u001b[0m\n\u001b[0;32m--> 111\u001b[0;31m                 \u001b[0mp\u001b[0m\u001b[0;34m.\u001b[0m\u001b[0maddcdiv_\u001b[0m\u001b[0;34m(\u001b[0m\u001b[0mexp_avg\u001b[0m\u001b[0;34m,\u001b[0m \u001b[0mdenom\u001b[0m\u001b[0;34m,\u001b[0m \u001b[0mvalue\u001b[0m\u001b[0;34m=\u001b[0m\u001b[0;34m-\u001b[0m\u001b[0mstep_size\u001b[0m\u001b[0;34m)\u001b[0m\u001b[0;34m\u001b[0m\u001b[0;34m\u001b[0m\u001b[0m\n\u001b[0m\u001b[1;32m    112\u001b[0m \u001b[0;34m\u001b[0m\u001b[0m\n\u001b[1;32m    113\u001b[0m         \u001b[0;32mreturn\u001b[0m \u001b[0mloss\u001b[0m\u001b[0;34m\u001b[0m\u001b[0;34m\u001b[0m\u001b[0m\n",
      "\u001b[0;31mKeyboardInterrupt\u001b[0m: "
     ]
    }
   ],
   "source": [
    "model = OccupancyModel().cuda()\n",
    "optimizer = optim.Adam(model.parameters(), lr = 0.001)\n",
    "\n",
    "for epoch in range(1):\n",
    "    train(epoch,model,train_loader,optimizer)\n",
    "    validation(model, val_loader)"
   ]
  },
  {
   "cell_type": "code",
   "execution_count": null,
   "metadata": {},
   "outputs": [],
   "source": [
    "torch.save(model.state_dict(), \"model1.pth\")"
   ]
  },
  {
   "cell_type": "code",
   "execution_count": null,
   "metadata": {},
   "outputs": [],
   "source": []
  },
  {
   "cell_type": "code",
   "execution_count": null,
   "metadata": {
    "collapsed": true
   },
   "outputs": [],
   "source": [
    "#TODO - switch to cabinet- we need a cube like object for more 1s\n",
    "#TODO switch in BCE with Logits for loss, take out sigmoid in forward, and fix validation\n",
    "#To take sigmoid at the output to get the probability \n",
    "#Seems like increasing batchsize to 20 and shuffle = True keep enough 1 occupancies in the game? "
   ]
  },
  {
   "cell_type": "markdown",
   "metadata": {},
   "source": []
  },
  {
   "cell_type": "code",
   "execution_count": null,
   "metadata": {},
   "outputs": [],
   "source": []
  },
  {
   "cell_type": "code",
   "execution_count": null,
   "metadata": {},
   "outputs": [],
   "source": []
  },
  {
   "cell_type": "code",
   "execution_count": null,
   "metadata": {},
   "outputs": [],
   "source": []
  },
  {
   "cell_type": "code",
   "execution_count": null,
   "metadata": {},
   "outputs": [],
   "source": []
  },
  {
   "cell_type": "code",
   "execution_count": null,
   "metadata": {},
   "outputs": [],
   "source": []
  }
 ],
 "metadata": {
  "kernelspec": {
   "display_name": "Python 3",
   "language": "python",
   "name": "python3"
  },
  "language_info": {
   "codemirror_mode": {
    "name": "ipython",
    "version": 3
   },
   "file_extension": ".py",
   "mimetype": "text/x-python",
   "name": "python",
   "nbconvert_exporter": "python",
   "pygments_lexer": "ipython3",
   "version": "3.8.3"
  }
 },
 "nbformat": 4,
 "nbformat_minor": 4
}
